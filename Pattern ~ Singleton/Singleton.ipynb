{
 "cells": [
  {
   "cell_type": "markdown",
   "id": "a85066f0",
   "metadata": {},
   "source": [
    "2. Простой пример на Python: логгер‑одиночка"
   ]
  },
  {
   "cell_type": "code",
   "execution_count": 1,
   "id": "abaf2c43",
   "metadata": {},
   "outputs": [
    {
     "name": "stdout",
     "output_type": "stream",
     "text": [
      "True\n"
     ]
    }
   ],
   "source": [
    "from __future__ import annotations\n",
    "from datetime import datetime\n",
    "from threading import Lock\n",
    "from typing import Optional\n",
    "\n",
    "class Logger:\n",
    "    \"\"\"\n",
    "    Потокобезопасный логгер‑одиночка.\n",
    "    Первый вызов Logger.instance() создаёт объект,\n",
    "    последующие — возвращают его же.\n",
    "    \"\"\"\n",
    "    _instance: Optional[\"Logger\"] = None\n",
    "    _lock = Lock()                     # защита от гонок\n",
    "\n",
    "    def __init__(self, file: str = \"app.log\") -> None:\n",
    "        self._file = open(file, \"a\", encoding=\"utf‑8\")\n",
    "\n",
    "    @classmethod\n",
    "    def instance(cls) -> \"Logger\":\n",
    "        if cls._instance is None:      # 1‑я проверка (быстрая)\n",
    "            with cls._lock:\n",
    "                if cls._instance is None:      # 2‑я (безопасная)\n",
    "                    cls._instance = cls()\n",
    "        return cls._instance\n",
    "\n",
    "    def log(self, msg: str) -> None:\n",
    "        timestamp = datetime.now().isoformat(timespec=\"seconds\")\n",
    "        self._file.write(f\"[{timestamp}] {msg}\\n\")\n",
    "        self._file.flush()\n",
    "\n",
    "# ---------- Клиентский код ----------\n",
    "if __name__ == \"__main__\":\n",
    "    logger1 = Logger.instance()\n",
    "    logger2 = Logger.instance()\n",
    "    logger1.log(\"Привет из первого места\")\n",
    "    logger2.log(\"И из второго — тот же объект\")\n",
    "\n",
    "    print(logger1 is logger2)          # True\n"
   ]
  },
  {
   "cell_type": "markdown",
   "id": "6c84e024",
   "metadata": {},
   "source": [
    "3. Сложный пример: конфигурация приложения + горячее обновление\n",
    "Сценарий: большое веб‑приложение читает YAML‑конфиг при старте.\n",
    "Хотим (1) иметь один экземпляр конфига, (2) уметь перезагружать его без рестарта, (3) не ломать работающие потоки."
   ]
  },
  {
   "cell_type": "code",
   "execution_count": 4,
   "id": "7d4d0ac4",
   "metadata": {},
   "outputs": [
    {
     "name": "stdout",
     "output_type": "stream",
     "text": [
      "⚙️  Конфиг перезагружен\n",
      "App: MyService\n",
      "DB: {'host': 'localhost', 'port': 5432, 'user': 'app', 'password': 'secret'}\n"
     ]
    }
   ],
   "source": [
    "from __future__ import annotations\n",
    "import yaml, time, threading\n",
    "from pathlib import Path\n",
    "from typing import Any, Dict, Optional\n",
    "\n",
    "class Config:\n",
    "    _instance: Optional[\"Config\"] = None\n",
    "    _lock = threading.RLock()\n",
    "\n",
    "    def __init__(self,\n",
    "                 path: str = \"settings.yaml\",\n",
    "                 defaults: Optional[Dict[str, Any]] = None) -> None:\n",
    "        self._path = Path(path)\n",
    "        self._data: Dict[str, Any] = defaults or {}\n",
    "        self._mtime = 0.0\n",
    "        self._ensure_file()        # <— создаём файл при необходимости\n",
    "        self._load()\n",
    "\n",
    "        self._watcher = threading.Thread(\n",
    "            target=self._watch_file, daemon=True, name=\"ConfigWatcher\"\n",
    "        )\n",
    "        self._watcher.start()\n",
    "\n",
    "    # ---------- Singleton access ----------\n",
    "    @classmethod\n",
    "    def instance(cls, **kwargs) -> \"Config\":\n",
    "        if cls._instance is None:\n",
    "            with cls._lock:\n",
    "                if cls._instance is None:\n",
    "                    cls._instance = cls(**kwargs)\n",
    "        return cls._instance\n",
    "\n",
    "    # ---------- Public API ----------\n",
    "    def get(self, key: str, default: Any = None) -> Any:\n",
    "        with self._lock:\n",
    "            return self._data.get(key, default)\n",
    "\n",
    "    def reload(self) -> None:\n",
    "        with self._lock:\n",
    "            self._load()\n",
    "\n",
    "    # ---------- Internal helpers ----------\n",
    "    def _ensure_file(self) -> None:\n",
    "        \"\"\"Если файла нет — создаём его с текущими defaults.\"\"\"\n",
    "        if not self._path.exists():\n",
    "            self._path.write_text(\n",
    "                yaml.safe_dump(self._data, sort_keys=False) or \"# empty config\\n\",\n",
    "                encoding=\"utf‑8\",\n",
    "            )\n",
    "\n",
    "    def _load(self) -> None:\n",
    "        with self._path.open(encoding=\"utf‑8\") as f:\n",
    "            loaded = yaml.safe_load(f) or {}\n",
    "        self._data.update(loaded)           # merge, чтобы не потерять defaults\n",
    "        self._mtime = self._path.stat().st_mtime\n",
    "        print(\"⚙️  Конфиг перезагружен\")\n",
    "\n",
    "    def _watch_file(self) -> None:\n",
    "        while True:\n",
    "            time.sleep(1.0)\n",
    "            try:\n",
    "                mtime = self._path.stat().st_mtime\n",
    "            except FileNotFoundError:\n",
    "                continue\n",
    "            if mtime != self._mtime:\n",
    "                self.reload()\n",
    "\n",
    "# ---------- Демонстрация ----------\n",
    "if __name__ == \"__main__\":\n",
    "    cfg = Config.instance(defaults={\"app_name\": \"MyService\"})\n",
    "    print(\"App:\", cfg.get(\"app_name\"))\n",
    "    print(\"DB:\", cfg.get(\"database\", {}))\n",
    "    time.sleep(10)\n"
   ]
  }
 ],
 "metadata": {
  "kernelspec": {
   "display_name": "Python 3",
   "language": "python",
   "name": "python3"
  },
  "language_info": {
   "codemirror_mode": {
    "name": "ipython",
    "version": 3
   },
   "file_extension": ".py",
   "mimetype": "text/x-python",
   "name": "python",
   "nbconvert_exporter": "python",
   "pygments_lexer": "ipython3",
   "version": "3.12.1"
  }
 },
 "nbformat": 4,
 "nbformat_minor": 5
}
